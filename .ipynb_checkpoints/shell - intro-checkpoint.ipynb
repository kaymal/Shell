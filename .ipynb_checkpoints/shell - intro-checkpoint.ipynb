{
 "cells": [
  {
   "cell_type": "markdown",
   "metadata": {},
   "source": [
    "# Shell\n",
    "\n",
    "How does the shell compare to a desktop interface?\n",
    "\n",
    "An operating system like Windows, Linux, or Mac OS is a special kind of program. It controls the computer's processor, hard drive, and network connection, but its most important job is to run other programs.\n",
    "\n",
    "Since human beings aren't digital, they need an interface to interact with the operating system. The most common one these days is a graphical file explorer, which translates clicks and double-clicks into commands to open files and run programs. Before computers had graphical displays, though, people typed instructions into a program called a **command-line shell**. Each time a command is entered, the shell runs some other programs, prints their output in human-readable form, and then displays a prompt to signal that it's ready to accept the next command. (Its name comes from the notion that it's the \"outer shell\" of the computer.)\n",
    "\n",
    "Typing commands instead of clicking and dragging may seem clumsy at first, but as you will see, once you start spelling out what you want the computer to do, you can combine old commands to create new ones and automate repetitive operations with just a few keystrokes.\n",
    "\n",
    "**Contents:**\n",
    "\n",
    "- Manipulating Files and Directories\n",
    "    - Working Directory\n",
    "    - Files and Directories\n",
    "    - Move Files\n",
    "    - Copy Files\n",
    "    - Create Files\n",
    "    - Delete Files\n",
    "- Manipulating Data\n",
    "- Combining Tools\n",
    "- Batch Processing\n",
    "- Creating New Tools"
   ]
  },
  {
   "cell_type": "markdown",
   "metadata": {
    "toc-hr-collapsed": false
   },
   "source": [
    "## Manipulating Files and Directories"
   ]
  },
  {
   "cell_type": "markdown",
   "metadata": {},
   "source": [
    "### Working Directory\n",
    "\n",
    "The filesystem manages files and directories (or folders). Each is identified by an absolute path that shows how to reach it from the filesystem's root directory: `/home/repl` is the directory `repl` in the directory `home`, `while /home/repl/course.txt` is a file `course.txt` in that directory, and `/` on its own is the root directory.\n",
    "\n",
    "To find out where you are in the filesystem, run the command `pwd` (short for \"print working directory\"). This prints the absolute path of your **current working directory**, which is where the shell runs commands and looks for files by default."
   ]
  },
  {
   "cell_type": "code",
   "execution_count": 1,
   "metadata": {},
   "outputs": [
    {
     "data": {
      "text/plain": [
       "'/Users/stb/Documents/GitHub/Shell'"
      ]
     },
     "execution_count": 1,
     "metadata": {},
     "output_type": "execute_result"
    }
   ],
   "source": [
    "pwd"
   ]
  },
  {
   "cell_type": "markdown",
   "metadata": {},
   "source": [
    "### List/Identify Files and Directories\n",
    "\n",
    "`pwd` tells you where you are. To find out what's there, type `ls` (which is short for \"listing\") and press the enter key. On its own, `ls` lists the contents of your current directory (the one displayed by `pwd`). If you add the names of some files, `ls` will list them, and if you add the names of directories, it will list their contents. For example, `ls /home/repl` shows you what's in your starting directory (usually called your home directory)."
   ]
  },
  {
   "cell_type": "code",
   "execution_count": 4,
   "metadata": {},
   "outputs": [
    {
     "name": "stdout",
     "output_type": "stream",
     "text": [
      "\u001b[34mcourses\u001b[m\u001b[m/               shell - intro.ipynb\n",
      "\u001b[34mprogramming-languages\u001b[m\u001b[m/ shell - intro.sh\n"
     ]
    }
   ],
   "source": [
    "ls"
   ]
  },
  {
   "cell_type": "markdown",
   "metadata": {},
   "source": [
    "### Relative and Absolute Path\n",
    "\n",
    "An absolute path is like a latitude and longitude: it has the same value no matter where you are. A relative path, on the other hand, specifies a location starting from where you are: it's like saying \"20 kilometers north\".\n",
    "\n",
    "For example, if you are in the directory `/home/repl`, the relative path seasonal specifies the same directory as `/home/repl/seasonal`, while `seasonal/winter.csv` specifies the same file as `/home/repl/seasonal/winter.csv`. The shell decides if a path is absolute or relative by looking at its first character: if it begins with `/`, it is absolute, and if it doesn't, it is relative."
   ]
  },
  {
   "cell_type": "code",
   "execution_count": 7,
   "metadata": {},
   "outputs": [
    {
     "name": "stdout",
     "output_type": "stream",
     "text": [
      "data-analysis.txt     probability.txt\n",
      "machine-learning.txt  statistics.txt\n"
     ]
    }
   ],
   "source": [
    "# Absolute path\n",
    "ls /Users/stb/Documents/GitHub/Shell/courses/"
   ]
  },
  {
   "cell_type": "code",
   "execution_count": 8,
   "metadata": {},
   "outputs": [
    {
     "name": "stdout",
     "output_type": "stream",
     "text": [
      "data-analysis.txt     probability.txt\n",
      "machine-learning.txt  statistics.txt\n"
     ]
    }
   ],
   "source": [
    "# Relative path\n",
    "ls courses/"
   ]
  },
  {
   "cell_type": "code",
   "execution_count": 9,
   "metadata": {},
   "outputs": [
    {
     "name": "stdout",
     "output_type": "stream",
     "text": [
      "python.txt  r.txt\n"
     ]
    }
   ],
   "source": [
    "ls programming-languages/"
   ]
  },
  {
   "cell_type": "markdown",
   "metadata": {},
   "source": [
    "### Move to Another Directory\n",
    "\n",
    "Just as you can move around in a file browser by double-clicking on folders, you can move around in the filesystem using the command cd (which stands for \"change directory\").\n",
    "\n",
    "If you type cd seasonal and then type pwd, the shell will tell you that you are now in `/home/repl/seasonal`. If you then run `ls` on its own, it shows you the contents of `/home/repl/seasonal`, because that's where you are. If you want to get back to your home directory `/home/repl`, you can use the command `cd /home/repl`."
   ]
  },
  {
   "cell_type": "markdown",
   "metadata": {},
   "source": [
    "You are in /home/repl/. Change directory to /home/repl/seasonal using a relative path."
   ]
  },
  {
   "cell_type": "code",
   "execution_count": 1,
   "metadata": {},
   "outputs": [
    {
     "data": {
      "text/plain": [
       "'/Users/stb/Documents/GitHub/Shell'"
      ]
     },
     "execution_count": 1,
     "metadata": {},
     "output_type": "execute_result"
    }
   ],
   "source": [
    "pwd"
   ]
  },
  {
   "cell_type": "code",
   "execution_count": 2,
   "metadata": {},
   "outputs": [
    {
     "name": "stdout",
     "output_type": "stream",
     "text": [
      "/Users/stb/Documents/GitHub/Shell/courses\n"
     ]
    }
   ],
   "source": [
    "cd courses"
   ]
  },
  {
   "cell_type": "markdown",
   "metadata": {},
   "source": [
    "Use `pwd` to check that you're there."
   ]
  },
  {
   "cell_type": "code",
   "execution_count": 3,
   "metadata": {},
   "outputs": [
    {
     "data": {
      "text/plain": [
       "'/Users/stb/Documents/GitHub/Shell/courses'"
      ]
     },
     "execution_count": 3,
     "metadata": {},
     "output_type": "execute_result"
    }
   ],
   "source": [
    "pwd"
   ]
  },
  {
   "cell_type": "markdown",
   "metadata": {},
   "source": [
    "Use `ls` without any paths to see what's in that directory."
   ]
  },
  {
   "cell_type": "code",
   "execution_count": 4,
   "metadata": {},
   "outputs": [
    {
     "name": "stdout",
     "output_type": "stream",
     "text": [
      "data-analysis.txt     probability.txt\n",
      "machine-learning.txt  statistics.txt\n"
     ]
    }
   ],
   "source": [
    "ls"
   ]
  },
  {
   "cell_type": "markdown",
   "metadata": {},
   "source": [
    "### Move Up a Directory\n",
    "\n",
    "The parent of a directory is the directory above it. For example, /home is the parent of /home/repl, and /home/repl is the parent of /home/repl/seasonal. You can always give the absolute path of your parent directory to commands like `cd` and ls. More often, though, you will take advantage of the fact that the special path `..` (two dots with no spaces) means \"the directory above the one I'm currently in\". If you are in /home/repl/seasonal, then `cd ..` moves you up to /home/repl. If you use `cd ..` once again, it puts you in /home. One more `cd ..` puts you in the root directory `/`, which is the very top of the filesystem. (Remember to put a space between `cd` and `..` - it is a command and a path, not a single four-letter command.)\n",
    "\n",
    "A single dot on its own, `.`, always means \"the current directory\", so `ls` on its own and `ls` . do the same thing, while `cd .` has no effect (because it moves you into the directory you're currently in).\n",
    "\n",
    "One final special path is ~ (the tilde character), which means \"your home directory\", such as /home/repl. No matter where you are, `ls` ~ will always list the contents of your home directory, and `cd ~` will always take you home.\n",
    "\n",
    "If you are in `/home/repl/seasonal`, where does `cd ~/../.` take you?"
   ]
  },
  {
   "cell_type": "code",
   "execution_count": 10,
   "metadata": {},
   "outputs": [
    {
     "name": "stdout",
     "output_type": "stream",
     "text": [
      "/Users/stb/Documents/GitHub/Shell\n"
     ]
    }
   ],
   "source": [
    "cd .."
   ]
  },
  {
   "cell_type": "code",
   "execution_count": 14,
   "metadata": {},
   "outputs": [
    {
     "name": "stdout",
     "output_type": "stream",
     "text": [
      "/Users/stb\n"
     ]
    }
   ],
   "source": [
    "cd ~"
   ]
  },
  {
   "cell_type": "code",
   "execution_count": 15,
   "metadata": {},
   "outputs": [
    {
     "name": "stdout",
     "output_type": "stream",
     "text": [
      "/Users/stb/Documents/GitHub/Shell/courses\n"
     ]
    }
   ],
   "source": [
    "cd Documents/GitHub/Shell/courses"
   ]
  },
  {
   "cell_type": "markdown",
   "metadata": {},
   "source": [
    "### Copy Files\n",
    "\n",
    "You will often want to copy files, move them into other directories to organize them, or rename them. One command to do this is `cp`, which is short for \"copy\". If `original.txt` is an existing file, then:\n",
    "`cp original.txt duplicate.txt`\n",
    "creates a copy of `original.txt` called `duplicate.txt`. If there already was a file called `duplicate.txt`, it is overwritten. If the last parameter to `cp` is an existing directory, then a command like:\n",
    "\n",
    "`cp seasonal/autumn.csv seasonal/winter.csv backup`\n",
    "copies all of the files into that directory."
   ]
  },
  {
   "cell_type": "code",
   "execution_count": 16,
   "metadata": {},
   "outputs": [
    {
     "name": "stdout",
     "output_type": "stream",
     "text": [
      "data-analysis.txt     probability.txt\n",
      "machine-learning.txt  statistics.txt\n"
     ]
    }
   ],
   "source": [
    "ls"
   ]
  },
  {
   "cell_type": "code",
   "execution_count": 17,
   "metadata": {},
   "outputs": [],
   "source": [
    "cp probability.txt probability_duplicate.txt"
   ]
  },
  {
   "cell_type": "code",
   "execution_count": 20,
   "metadata": {},
   "outputs": [
    {
     "name": "stdout",
     "output_type": "stream",
     "text": [
      "\u001b[34mcourses\u001b[m\u001b[m/               \u001b[34mprogramming-languages\u001b[m\u001b[m/ shell - intro.sh\n",
      "\u001b[34mdata\u001b[m\u001b[m/                  shell - intro.ipynb    \u001b[34mtmp\u001b[m\u001b[m/\n"
     ]
    }
   ],
   "source": [
    "ls"
   ]
  },
  {
   "cell_type": "code",
   "execution_count": 19,
   "metadata": {},
   "outputs": [
    {
     "name": "stdout",
     "output_type": "stream",
     "text": [
      "/Users/stb/Documents/GitHub/Shell\n"
     ]
    }
   ],
   "source": [
    "cd .."
   ]
  },
  {
   "cell_type": "code",
   "execution_count": 21,
   "metadata": {},
   "outputs": [],
   "source": [
    "cp courses/probability.txt courses/probability_duplicate.txt tmp"
   ]
  },
  {
   "cell_type": "code",
   "execution_count": 22,
   "metadata": {},
   "outputs": [
    {
     "name": "stdout",
     "output_type": "stream",
     "text": [
      "probability.txt            tmp_file.txt\n",
      "probability_duplicate.txt\n"
     ]
    }
   ],
   "source": [
    "ls tmp/"
   ]
  },
  {
   "cell_type": "markdown",
   "metadata": {},
   "source": [
    "### Move Files\n",
    "\n",
    "While `cp` copies a file, `mv` moves it from one directory to another, just as if you had dragged it in a graphical file browser. It handles its parameters the same way as `cp`, so the command:\n",
    "\n",
    "`mv autumn.csv winter.csv ..`\n",
    "moves the files `autumn.csv` and `winter.csv` from the current working directory up one level to its parent directory (because .. always refers to the directory above your current location)."
   ]
  },
  {
   "cell_type": "markdown",
   "metadata": {},
   "source": [
    "You are in /home/repl, which has sub-directories seasonal and backup. Using a single command, move spring.csv and summer.csv from seasonal to backup."
   ]
  },
  {
   "cell_type": "code",
   "execution_count": 23,
   "metadata": {},
   "outputs": [],
   "source": [
    "mv tmp/probability.txt tmp/probability_duplicate.txt ."
   ]
  },
  {
   "cell_type": "markdown",
   "metadata": {},
   "source": [
    "### Rename Files\n",
    "\n",
    "`mv` can also be used to rename files. If you run:\n",
    "\n",
    "`mv course.txt old-course.txt`\n",
    "then the file course.txt in the current working directory is \"moved\" to the file old-course.txt. This is different from the way file browsers work, but is often handy.\n",
    "\n",
    "One warning: just like `cp`, `mv` will overwrite existing files. If, for example, you already have a file called old-course.txt, then the command shown above will replace it with whatever is in course.txt."
   ]
  },
  {
   "cell_type": "markdown",
   "metadata": {},
   "source": [
    "Go into the seasonal directory. Rename the file winter.csv to be winter.csv.bck. Run `ls` to check that everything has worked."
   ]
  },
  {
   "cell_type": "code",
   "execution_count": 25,
   "metadata": {},
   "outputs": [],
   "source": [
    "mv probability_duplicate.txt probability_2.txt"
   ]
  },
  {
   "cell_type": "code",
   "execution_count": 26,
   "metadata": {},
   "outputs": [
    {
     "name": "stdout",
     "output_type": "stream",
     "text": [
      "\u001b[34mcourses\u001b[m\u001b[m/               probability_2.txt      shell - intro.sh\n",
      "\u001b[34mdata\u001b[m\u001b[m/                  \u001b[34mprogramming-languages\u001b[m\u001b[m/ \u001b[34mtmp\u001b[m\u001b[m/\n",
      "probability.txt        shell - intro.ipynb\n"
     ]
    }
   ],
   "source": [
    "ls"
   ]
  },
  {
   "cell_type": "markdown",
   "metadata": {},
   "source": [
    "### Delete Files\n",
    "\n",
    "We can copy files and move them around; to delete them, we use `rm`, which stands for \"remove\". As with `cp` and `mv`, you can give `rm` the names of as many files as you'd like, so:\n",
    "\n",
    "`rm thesis.txt backup/thesis-2017-08.txt`\n",
    "removes both thesis.txt and backup/thesis-2017-08.txt\n",
    "\n",
    "rm does exactly what its name says, and it does it right away: unlike graphical file browsers, the shell doesn't have a trash can, so when you type the command above, your thesis is gone for good."
   ]
  },
  {
   "cell_type": "code",
   "execution_count": 27,
   "metadata": {},
   "outputs": [],
   "source": [
    "rm probability.txt probability_2.txt"
   ]
  },
  {
   "cell_type": "code",
   "execution_count": 28,
   "metadata": {},
   "outputs": [
    {
     "name": "stdout",
     "output_type": "stream",
     "text": [
      "\u001b[34mcourses\u001b[m\u001b[m/               \u001b[34mprogramming-languages\u001b[m\u001b[m/ shell - intro.sh\n",
      "\u001b[34mdata\u001b[m\u001b[m/                  shell - intro.ipynb    \u001b[34mtmp\u001b[m\u001b[m/\n"
     ]
    }
   ],
   "source": [
    "ls"
   ]
  },
  {
   "cell_type": "markdown",
   "metadata": {},
   "source": [
    "### Create and Delete Directories\n",
    "\n",
    "`mv` treats directories the same way it treats files: if you are in your home directory and run `mv seasonal by-season`, for example, `mv` changes the name of the seasonal directory to by-season. However, `rm` works differently.\n",
    "\n",
    "If you try to `rm` a directory, the shell prints an error message telling you it can't do that, primarily to stop you from accidentally deleting an entire directory full of work. Instead, you can use a separate command called `rmdir`. For added safety, it only works when the directory is empty, so you must delete the files in a directory before you delete the directory. (Experienced users can use the `-r` option to `rm` to get the same effect; we will discuss command options in the next chapter.)"
   ]
  },
  {
   "cell_type": "markdown",
   "metadata": {},
   "source": [
    "Since a directory is not a file, you must use the command `mkdir directory_name` to create a new (empty) directory. Use this command to create a new directory called yearly below your home directory."
   ]
  },
  {
   "cell_type": "code",
   "execution_count": 38,
   "metadata": {},
   "outputs": [],
   "source": [
    "mkdir thrash"
   ]
  },
  {
   "cell_type": "markdown",
   "metadata": {},
   "source": [
    "Without changing directories, delete the file agarwal.txt in the people directory."
   ]
  },
  {
   "cell_type": "code",
   "execution_count": 30,
   "metadata": {},
   "outputs": [
    {
     "name": "stdout",
     "output_type": "stream",
     "text": [
      "rm: thrash: is a directory\n"
     ]
    }
   ],
   "source": [
    "rm thrash"
   ]
  },
  {
   "cell_type": "code",
   "execution_count": 31,
   "metadata": {},
   "outputs": [
    {
     "name": "stdout",
     "output_type": "stream",
     "text": [
      "rmdir: thrash: Directory not empty\n"
     ]
    }
   ],
   "source": [
    "rmdir thrash"
   ]
  },
  {
   "cell_type": "code",
   "execution_count": 35,
   "metadata": {},
   "outputs": [
    {
     "name": "stdout",
     "output_type": "stream",
     "text": [
      "rm: thrash/thrash_file.txt: No such file or directory\n"
     ]
    }
   ],
   "source": [
    "rm thrash/thrash_file.txt"
   ]
  },
  {
   "cell_type": "markdown",
   "metadata": {},
   "source": [
    "Now that the people directory is empty, use a single command to delete it."
   ]
  },
  {
   "cell_type": "code",
   "execution_count": 36,
   "metadata": {},
   "outputs": [
    {
     "name": "stdout",
     "output_type": "stream",
     "text": [
      "rmdir: thrash: Directory not empty\n"
     ]
    }
   ],
   "source": [
    "rmdir thrash\n",
    "# git files inside?"
   ]
  },
  {
   "cell_type": "markdown",
   "metadata": {},
   "source": [
    "### Wrapping up\n",
    "\n",
    "You will often create intermediate files when analyzing data. Rather than storing them in your home directory, you can put them in /tmp, which is where people and programs often keep files they only need briefly. (Note that /tmp is immediately below the root directory /, not below your home directory.) This wrap-up exercise will show you how to do that."
   ]
  },
  {
   "cell_type": "markdown",
   "metadata": {},
   "source": [
    "Use `cd` to go into /tmp. List the contents of /tmp without typing a directory name. Make a new directory inside /tmp called scratch. Move /home/repl/people/agarwal.txt into /tmp/scratch. We suggest you use the ~ shortcut for your home directory and a relative path for the second rather than the absolute path."
   ]
  },
  {
   "cell_type": "markdown",
   "metadata": {
    "toc-hr-collapsed": false
   },
   "source": [
    "## Manipulating Data"
   ]
  },
  {
   "cell_type": "markdown",
   "metadata": {},
   "source": [
    "### View a File's Contents\n",
    "\n",
    "Before you rename or delete files, you may want to have a look at their contents. The simplest way to do this is with `cat`, which just prints the contents of files onto the screen. (Its name is short for \"concatenate\", meaning \"to link things together\", since it will print all the files whose names you give it, one after the other.)"
   ]
  },
  {
   "cell_type": "code",
   "execution_count": 14,
   "metadata": {},
   "outputs": [
    {
     "name": "stdout",
     "output_type": "stream",
     "text": [
      "Statistics is a branch of mathematics working with data collection, organization, analysis, interpretation and presentation. In applying statistics to a scientific, industrial, or social problem, it is conventional to begin with a statistical population or a statistical model to be studied."
     ]
    }
   ],
   "source": [
    "cat courses/statistics.txt"
   ]
  },
  {
   "cell_type": "markdown",
   "metadata": {},
   "source": [
    "### View a File's Content Piece by Piece\n",
    "\n",
    "You can use `cat` to print large files and then scroll through the output, but it is usually more convenient to page the output. The original command for doing this was called `more`, but it has been superseded by a more powerful command called `less`. (This kind of naming is what passes for humor in the Unix world.) When you `less` a file, one page is displayed at a time; you can press `spacebar` to page down or type `q` to quit.\n",
    "\n",
    "If you give `less` the names of **several files**, you can type `:n` (colon and a lower-case 'n') to move to the next file, `:p` to go back to the previous one, or `:q` to quit."
   ]
  },
  {
   "cell_type": "markdown",
   "metadata": {},
   "source": [
    "Use less seasonal/spring.csv seasonal/summer.csv to view those two files in that order. Press spacebar to page down, :n to go to the second file, and :q to quit."
   ]
  },
  {
   "cell_type": "code",
   "execution_count": 23,
   "metadata": {},
   "outputs": [
    {
     "name": "stdout",
     "output_type": "stream",
     "text": [
      "Machine learning is a scientific study of algorithms and statistical models that computer systems use in order to perform a specific task effectively without using explicit instructions, relying on patterns and inference instead. It is seen as a subset of artificial intelligence. \n",
      "\n",
      "Machine learning algorithms build a mathematical model based on sample data, known as \"training data\", in order to make predictions or decisions without being explicitly programmed to perform the task.[1][2]:2 Machine learning algorithms are used in a wide variety of applications, such as email filtering, and computer vision, where it is infeasible to develop an algorithm of specific instructions for performing the task. \n",
      "\n",
      "Machine learning is closely related to computational statistics, which focuses on making predictions using computers. The study of mathematical optimization delivers methods, theory and application domains to the field of machine learning. Data mining is a field of study within machine learning, and focuses on exploratory data analysis through unsupervised learning.[3][4] In its application across business problems, machine learning is also referred to as predictive analytics.\n",
      "\n",
      "Overview\n",
      "====\n",
      "\u001b[Kl provided a widely quoted, more formal definition of the algorithms studied in :\u001b[Krses/machine-learning.txt\u001b[m\u001b[K\u0007"
     ]
    }
   ],
   "source": [
    "!less courses/machine-learning.txt\n",
    "# Press 'q' to quit"
   ]
  },
  {
   "cell_type": "code",
   "execution_count": 22,
   "metadata": {},
   "outputs": [
    {
     "name": "stdout",
     "output_type": "stream",
     "text": [
      "Machine learning is a scientific study of algorithms and statistical models that computer systems use in order to perform a specific task effectively without using explicit instructions, relying on patterns and inference instead. It is seen as a subset of artificial intelligence. \n",
      "\n",
      "Machine learning algorithms build a mathematical model based on sample data, known as \"training data\", in order to make predictions or decisions without being explicitly programmed to perform the task.[1][2]:2 Machine learning algorithms are used in a wide variety of applications, such as email filtering, and computer vision, where it is infeasible to develop an algorithm of specific instructions for performing the task. \n",
      "\n",
      "Machine learning is closely related to computational statistics, which focuses on making predictions using computers. The study of mathematical optimization delivers methods, theory and application domains to the field of machine learning. Data mining is a field of study within machine learning, and focuses on exploratory data analysis through unsupervised learning.[3][4] In its application across business problems, machine learning is also referred to as predictive analytics.\n",
      "\n",
      "Overview\n",
      "====\n",
      "\u001b[Kl provided a widely quoted, more formal definition of the algorithms studied in :\u001b[Krses/machine-learning.txt (file 1 of 2)\u001b[m\u001b[K\u0007"
     ]
    }
   ],
   "source": [
    "!less courses/machine-learning.txt courses/statistics.txt\n",
    "# Type ':n' to move to the next file, ':p' for the previous file. Type ':q' to quit."
   ]
  },
  {
   "cell_type": "markdown",
   "metadata": {},
   "source": [
    "### Head of a File\n",
    "\n",
    "The first thing most data scientists do when given a new dataset to analyze is figure out what fields it contains and what values those fields have. If the dataset has been exported from a database or spreadsheet, it will often be stored as comma-separated values (CSV). A quick way to figure out what it contains is to look at the first few rows.\n",
    "\n",
    "We can do this in the shell using a command called `head`. As its name suggests, it prints the first few lines of a file (where \"a few\" means 10)"
   ]
  },
  {
   "cell_type": "code",
   "execution_count": 28,
   "metadata": {},
   "outputs": [
    {
     "name": "stdout",
     "output_type": "stream",
     "text": [
      "Machine learning is a scientific study of algorithms and statistical models that computer systems use in order to perform a specific task effectively without using explicit instructions, relying on patterns and inference instead. It is seen as a subset of artificial intelligence. \n",
      "\n",
      "Machine learning algorithms build a mathematical model based on sample data, known as \"training data\", in order to make predictions or decisions without being explicitly programmed to perform the task.\n",
      "Machine learning algorithms are used in a wide variety of applications, such as email filtering, and computer vision, where it is infeasible to develop an algorithm of specific instructions for performing the task. \n",
      "\n",
      "Machine learning is closely related to computational statistics, which focuses on making predictions using computers. \n",
      "The study of mathematical optimization delivers methods, theory and application domains to the field of machine learning. Data mining is a field of study within machine learning, and focuses on exploratory data analysis through unsupervised learning.\n",
      "In its application across business problems, machine learning is also referred to as predictive analytics.\n",
      "\n",
      "Overview\n"
     ]
    }
   ],
   "source": [
    "!head courses/machine-learning.txt"
   ]
  },
  {
   "cell_type": "markdown",
   "metadata": {},
   "source": [
    "### Typing Less with `tab`\n",
    "\n",
    "One of the shell's power tools is tab completion. If you start typing the name of a file and then press the tab key, the shell will do its best to auto-complete the path. For example, if you type sea and press `tab`, it will fill in the directory name seasonal/ (with a trailing slash). If you then type `a` and `tab`, it will complete the path as seasonal/autumn.csv.\n",
    "\n",
    "If the path is ambiguous, such as seasonal/s, pressing tab a second time will display a list of possibilities. Typing another character or two to make your path more specific and then pressing tab will fill in the rest of the name."
   ]
  },
  {
   "cell_type": "markdown",
   "metadata": {},
   "source": [
    "### Flag: Control What Commands Do\n",
    "\n",
    "You won't always want to look at the first 10 lines of a file, so the shell lets you change head's behavior by giving it a command-line flag (or just \"flag\" for short). If you run the command:\n",
    "\n",
    "`head -n 3 seasonal/summer.csv`\n",
    "`head` will only display the first three lines of the file. If you `run head -n 100`, it will display the first 100 (assuming there are that many), and so on.\n",
    "\n",
    "A flag's name usually indicates its purpose (for example, `-n` is meant to signal \"number of lines\"). Command flags don't have to be a `-` followed by a single letter, but it's a widely-used convention.\n",
    "\n",
    "Note: it's considered good style to put all flags before any filenames, so in this course, we only accept answers that do that."
   ]
  },
  {
   "cell_type": "code",
   "execution_count": 29,
   "metadata": {},
   "outputs": [
    {
     "name": "stdout",
     "output_type": "stream",
     "text": [
      "Machine learning is a scientific study of algorithms and statistical models that computer systems use in order to perform a specific task effectively without using explicit instructions, relying on patterns and inference instead. It is seen as a subset of artificial intelligence. \n",
      "\n",
      "Machine learning algorithms build a mathematical model based on sample data, known as \"training data\", in order to make predictions or decisions without being explicitly programmed to perform the task.\n"
     ]
    }
   ],
   "source": [
    "!head -n 3 courses/machine-learning.txt"
   ]
  },
  {
   "cell_type": "markdown",
   "metadata": {},
   "source": [
    "### List everything below a directory\n",
    "\n",
    "In order to see everything underneath a directory, no matter how deeply nested it is, you can give ls the flag `-R` (which means \"recursive\"). This shows every file and directory in the current level, then everything in each sub-directory, and so on."
   ]
  },
  {
   "cell_type": "code",
   "execution_count": 30,
   "metadata": {},
   "outputs": [
    {
     "name": "stdout",
     "output_type": "stream",
     "text": [
      "\u001b[34mcourses\u001b[m\u001b[m/               shell - intro.ipynb    \u001b[34mtmp\u001b[m\u001b[m/\n",
      "\u001b[34mprogramming-languages\u001b[m\u001b[m/ shell - intro.sh\n",
      "\n",
      "./courses:\n",
      "data-analysis.txt     probability.txt\n",
      "machine-learning.txt  statistics.txt\n",
      "\n",
      "./programming-languages:\n",
      "python.txt  r.txt\n",
      "\n",
      "./tmp:\n",
      "tmp_file.txt\n"
     ]
    }
   ],
   "source": [
    "ls -R"
   ]
  },
  {
   "cell_type": "markdown",
   "metadata": {},
   "source": [
    "`ls` has another flag `-F` that prints a `/` after the name of every directory and a `*` after the name of every runnable program. Run `ls` with the two flags, `-R` and `-F`, and the absolute path to your home directory to see everything it contains. (The order of the flags doesn't matter, but the directory name must come last.)"
   ]
  },
  {
   "cell_type": "code",
   "execution_count": 31,
   "metadata": {},
   "outputs": [
    {
     "name": "stdout",
     "output_type": "stream",
     "text": [
      "\u001b[34mcourses\u001b[m\u001b[m/               shell - intro.ipynb    \u001b[34mtmp\u001b[m\u001b[m/\n",
      "\u001b[34mprogramming-languages\u001b[m\u001b[m/ shell - intro.sh\n",
      "\n",
      "./courses:\n",
      "data-analysis.txt     probability.txt\n",
      "machine-learning.txt  statistics.txt\n",
      "\n",
      "./programming-languages:\n",
      "python.txt  r.txt\n",
      "\n",
      "./tmp:\n",
      "tmp_file.txt\n"
     ]
    }
   ],
   "source": [
    "ls -R -F"
   ]
  },
  {
   "cell_type": "markdown",
   "metadata": {},
   "source": [
    "### Get Help for a Command\n",
    "\n",
    "To find out what commands do, people used to use the `man` command (short for \"manual\"). For example, the command `man head` brings up this information:"
   ]
  },
  {
   "cell_type": "code",
   "execution_count": 32,
   "metadata": {},
   "outputs": [
    {
     "data": {
      "text/plain": [
       "\n",
       "HEAD(1) \t\t  BSD General Commands Manual\t\t       HEAD(1)\n",
       "\n",
       "NAME\n",
       "     head -- display first lines of a file\n",
       "\n",
       "SYNOPSIS\n",
       "     head [-n count | -c bytes] [file ...]\n",
       "\n",
       "DESCRIPTION\n",
       "     This filter displays the first count lines or bytes of each of the speci-\n",
       "     fied files, or of the standard input if no files are specified.  If count\n",
       "     is omitted it defaults to 10.\n",
       "\n",
       "     If more than a single file is specified, each file is preceded by a\n",
       "     header consisting of the string ``==> XXX <=='' where ``XXX'' is the name\n",
       "     of the file.\n",
       "\n",
       "EXIT STATUS\n",
       "     The head utility exits 0 on success, and >0 if an error occurs.\n",
       "\n",
       "SEE ALSO\n",
       "     tail(1)\n",
       "\n",
       "HISTORY\n",
       "     The head command appeared in PWB UNIX.\n",
       "\n",
       "BSD\t\t\t\t June 6, 1993\t\t\t\t   BSD\n"
      ]
     },
     "metadata": {},
     "output_type": "display_data"
    }
   ],
   "source": [
    "man head"
   ]
  },
  {
   "cell_type": "markdown",
   "metadata": {},
   "source": [
    "`man` automatically invokes `less`, so you may need to press `spacebar` to page through the information and `:q` to quit.\n",
    "\n",
    "The one-line description under NAME tells you briefly what the command does, and the summary under SYNOPSIS lists all the flags it understands. Anything that is optional is shown in square brackets `[...]`, either/or alternatives are separated by `|`, and things that can be repeated are shown by `...`, so head's manual page is telling you that you can either give a line count with `-n` or a byte count with `-c`, and that you can give it any number of filenames."
   ]
  },
  {
   "cell_type": "markdown",
   "metadata": {},
   "source": [
    "Read the manual page for the tail command to find out what putting a `+` sign in front of the number used with the `-n` flag does. (Remember to press spacebar to page down and/or type `q` to quit.)\n",
    "\n",
    "Use tail with the flag `-n +10` to display all but the first six lines of seasonal/spring.csv."
   ]
  },
  {
   "cell_type": "code",
   "execution_count": 38,
   "metadata": {},
   "outputs": [
    {
     "name": "stdout",
     "output_type": "stream",
     "text": [
      "Overview\n",
      "====\n",
      "The name machine learning was coined in 1959 by Arthur Samuel. \n",
      "Tom M. Mitchell provided a widely quoted, more formal definition of the algorithms studied in the machine learning field: \n",
      "\"A computer program is said to learn from experience E with respect to some class of tasks T and performance measure P if its performance at tasks in T, as measured by P, improves with experience E.\"\n",
      "This definition of the tasks in which machine learning is concerned offers a fundamentally operational definition rather than defining the field in cognitive terms.\n",
      "This follows Alan Turing's proposal in his paper \"Computing Machinery and Intelligence\", in which the question \"Can machines think?\" is replaced with the question \"Can machines do what we (as thinking entities) can do?\".\n",
      "In Turing's proposal the various characteristics that could be possessed by a thinking machine and the various implications in constructing one are exposed."
     ]
    }
   ],
   "source": [
    "# man tail\n",
    "\n",
    "!tail -n +10 courses/machine-learning.txt"
   ]
  },
  {
   "cell_type": "markdown",
   "metadata": {},
   "source": [
    "### Select Columns from a File\n",
    "\n",
    "`head` and `tail` let you select rows from a text file. If you want to select columns, you can use the command `cut`. It has several options (use `man cut` to explore them), but the most common is something like:\n",
    "\n",
    "`cut -f 2-5,8 -d , values.csv`\n",
    "\n",
    "which means \"select columns 2 through 5 and columns 8, using comma as the separator\". `cut` uses `-f` (meaning \"fields\") to specify columns and `-d` (meaning \"delimiter\") to specify the separator. You need to specify the latter because some files may use spaces, tabs, or colons to separate columns."
   ]
  },
  {
   "cell_type": "code",
   "execution_count": 41,
   "metadata": {},
   "outputs": [
    {
     "name": "stdout",
     "output_type": "stream",
     "text": [
      "course, programming language, semester, year\n",
      "Probability, R, fall, 2018\n",
      "Statistics, R, winter, 2018-2019\n",
      "Data Analysis, R and Python, spring, 2019\n",
      "Machine Learning, Python, summer, 2019"
     ]
    }
   ],
   "source": [
    "cat data/course_list.csv"
   ]
  },
  {
   "cell_type": "code",
   "execution_count": 40,
   "metadata": {},
   "outputs": [
    {
     "name": "stdout",
     "output_type": "stream",
     "text": [
      "course, programming language, year\n",
      "Probability, R, 2018\n",
      "Statistics, R, 2018-2019\n",
      "Data Analysis, R and Python, 2019\n",
      "Machine Learning, Python, 2019\n"
     ]
    }
   ],
   "source": [
    "!cut -f 1-2,4 -d , data/course_list.csv"
   ]
  },
  {
   "cell_type": "markdown",
   "metadata": {},
   "source": [
    "Adding a space after the flag is good style, but not compulsory."
   ]
  },
  {
   "cell_type": "code",
   "execution_count": 39,
   "metadata": {},
   "outputs": [
    {
     "name": "stdout",
     "output_type": "stream",
     "text": [
      "course, programming language, year\n",
      "Probability, R, 2018\n",
      "Statistics, R, 2018-2019\n",
      "Data Analysis, R and Python, 2019\n",
      "Machine Learning, Python, 2019\n"
     ]
    }
   ],
   "source": [
    "!cut -f1-2,4 -d, data/course_list.csv"
   ]
  },
  {
   "cell_type": "code",
   "execution_count": 41,
   "metadata": {},
   "outputs": [
    {
     "name": "stdout",
     "output_type": "stream",
     "text": [
      "course, programming language, year\n",
      "Probability, R, 2018\n",
      "Statistics, R, 2018-2019\n",
      "Data Analysis, R and Python, 2019\n",
      "Machine Learning, Python, 2019\n"
     ]
    }
   ],
   "source": [
    "!cut -d, -f 1-2,4 data/course_list.csv"
   ]
  },
  {
   "cell_type": "markdown",
   "metadata": {},
   "source": [
    "### Repeat Commands\n",
    "\n",
    "One of the biggest advantages of using the shell is that it makes it easy for you to do things over again. If you run some commands, you can then press the **up-arrow** key to cycle back through them. You can also use the left and right arrow keys and the delete key to edit them. Pressing return will then run the modified command.\n",
    "\n",
    "Even better, `history` will print a list of commands you have run recently. Each one is preceded by a serial number to make it easy to re-run particular commands: just type `!55` to re-run the 55th command in your history (if you have that many). You can also re-run a command by typing an exclamation mark followed by the command's name, such as `!head` or `!cut`, which will re-run the most recent use of that command."
   ]
  },
  {
   "cell_type": "code",
   "execution_count": 45,
   "metadata": {},
   "outputs": [
    {
     "name": "stdout",
     "output_type": "stream",
     "text": [
      "pwd\n",
      "cd courses\n",
      "pwd\n",
      "ls\n",
      "cd ~\n",
      "ls ..\n",
      "ls\n",
      "cd Documents/GitHub/Shell/\n",
      "cd Courses\n",
      "cd ..\n",
      "cd ~\n",
      "cd Documents/GitHub/Shell/\n",
      "cd Documents/GitHub/Shell/courses\n",
      "cd ~\n",
      "cd Documents/GitHub/Shell/courses\n",
      "ls\n",
      "cp probability.txt probability_duplicate.txt\n",
      "ls\n",
      "cd ..\n",
      "ls\n",
      "cp courses/probability.txt courses/probability_duplicate.txt tmp\n",
      "ls tmp/\n",
      "mv tmp/probability.txt tmp/probability_duplicate.txt .\n",
      "ls\n",
      "mv probability_duplicate.txt probability_2.txt\n",
      "ls\n",
      "rm probability.txt probability_2.txt\n",
      "ls\n",
      "ls\n",
      "rm thrash\n",
      "rmdir thrash\n",
      "rm thrash/thrash_file.txt\n",
      "rm thrash\n",
      "rmdir thrash\n",
      "rm thrash/thrash_file.txt\n",
      "rmdir thrash\n",
      "mkdir thrash\n",
      "mkdir thrash\n",
      "!cut -f 1-2,4 -d, data/course_list.csv\n",
      "!cut -d, -f 1-2,4 data/course_list.csv\n",
      "!cut -d, -f 1-2,4 data/course_list.csv\n",
      "history\n",
      "\n",
      "# !head >>> runs the most recent head command\n",
      "# !1 >>> runs the first command\n",
      "!history\n",
      "\n",
      "# !head >>> runs the most recent head command\n",
      "# !1 >>> runs the first command\n",
      "history\n",
      "\n",
      "# !head >>> runs the most recent head command\n",
      "# !1 >>> runs the first command\n",
      "%history\n",
      "\n",
      "# !head >>> runs the most recent head command\n",
      "# !1 >>> runs the first command\n"
     ]
    }
   ],
   "source": [
    "%history # This is history of the commands used in this notebook\n",
    "\n",
    "# !head >>> runs the most recent head command\n",
    "# !1 >>> runs the first command"
   ]
  },
  {
   "cell_type": "markdown",
   "metadata": {},
   "source": [
    "### Select Lines Containing Specific Values\n",
    "\n",
    "`head` and `tail` select rows, `cut` selects columns, and `grep` selects lines according to what they contain. In its simplest form, `grep` takes a piece of text followed by one or more filenames and prints all of the lines in those files that contain that text. For example, `grep bicuspid seasonal/winter.csv` prints lines from `winter.csv` that contain \"bicuspid\".\n",
    "\n",
    "`grep` can search for patterns as well; we will explore those in the next course. What's more important right now is some of grep's more common flags:\n",
    "\n",
    "* `-c:` print a count of matching lines rather than the lines themselves\n",
    "* `-h:` do not print the names of files when searching multiple files\n",
    "* `-i:` ignore case (e.g., treat \"Regression\" and \"regression\" as matches)\n",
    "* `-l:` print the names of files that contain matches, not the matches\n",
    "* `-n:` print line numbers for matching lines\n",
    "* `-v:` invert the match, i.e., only show lines that don't match"
   ]
  },
  {
   "cell_type": "markdown",
   "metadata": {},
   "source": [
    "Print the contents of all of the lines containing the word molar in seasonal/autumn.csv by running a single command while in your home directory. Don't use any flags."
   ]
  },
  {
   "cell_type": "code",
   "execution_count": 50,
   "metadata": {},
   "outputs": [
    {
     "name": "stdout",
     "output_type": "stream",
     "text": [
      "Data Analysis, R and Python, spring, 2019\n",
      "Machine Learning, Python, summer, 2019\n"
     ]
    }
   ],
   "source": [
    "!grep Python data/course_list.csv"
   ]
  },
  {
   "cell_type": "markdown",
   "metadata": {},
   "source": [
    "Invert the match to find all of the lines that don't contain the word molar in seasonal/spring.csv, and show their line numbers. Remember, it's considered good style to put all of the flags before other values like filenames or the search term \"molar\"."
   ]
  },
  {
   "cell_type": "code",
   "execution_count": 51,
   "metadata": {},
   "outputs": [
    {
     "name": "stdout",
     "output_type": "stream",
     "text": [
      "1:course, programming language, semester, year\n",
      "2:Probability, R, fall, 2018\n",
      "3:Statistics, R, winter, 2018-2019\n"
     ]
    }
   ],
   "source": [
    "!grep -v -n Python data/course_list.csv"
   ]
  },
  {
   "cell_type": "markdown",
   "metadata": {},
   "source": [
    "Count how many lines contain the word incisor in autumn.csv and winter.csv combined. (Again, run a single command from your home directory.)"
   ]
  },
  {
   "cell_type": "code",
   "execution_count": 52,
   "metadata": {},
   "outputs": [
    {
     "name": "stdout",
     "output_type": "stream",
     "text": [
      "2\n"
     ]
    }
   ],
   "source": [
    "!grep -c Python data/course_list.csv"
   ]
  },
  {
   "cell_type": "markdown",
   "metadata": {},
   "source": [
    "Why isn't it always safe to treat data as text?\n",
    "\n",
    "The `SEE ALSO` section of the manual page for `cut` refers to a command called `paste` that can be used to combine data files instead of cutting them up.\n",
    "\n",
    "Read the manual page for `paste`, and then run paste to combine the autumn and winter data files in a single table using a `comma` as a separator. What's wrong with the output from a **data analysis** point of view?\n",
    "\n",
    "--The last few rows have the wrong number of columns. Joining the lines with columns creates only one empty column at the start, not two."
   ]
  },
  {
   "cell_type": "code",
   "execution_count": 47,
   "metadata": {},
   "outputs": [],
   "source": [
    "# man paste"
   ]
  },
  {
   "cell_type": "markdown",
   "metadata": {},
   "source": [
    "## Combining Tools"
   ]
  },
  {
   "cell_type": "markdown",
   "metadata": {},
   "source": [
    "### Redirecting Operators"
   ]
  },
  {
   "cell_type": "markdown",
   "metadata": {},
   "source": [
    "### Store a Command's Output in a File\n",
    "\n",
    "All of the tools you have seen so far let you name input files. Most don't have an option for naming an output file because they don't need one. Instead, you can use **redirection** to save any command's output anywhere you want. If you run this command:\n",
    "\n",
    "`head -n 5 seasonal/summer.csv`\n",
    "it prints the first 5 lines of the summer data on the screen. If you run this command instead:\n",
    "\n",
    "`head -n 5 seasonal/summer.csv > top.csv`\n",
    "nothing appears on the screen. Instead, head's output is put in a new file called top.csv. You can take a look at that file's contents using cat:\n",
    "\n",
    "`cat top.csv`\n",
    "\n",
    "The greater-than sign `>` tells the shell to redirect head's output to a file. It isn't part of the `head` command; instead, it works with every shell command that produces output."
   ]
  },
  {
   "cell_type": "code",
   "execution_count": 52,
   "metadata": {},
   "outputs": [
    {
     "name": "stdout",
     "output_type": "stream",
     "text": [
      "course_list.csv\n"
     ]
    }
   ],
   "source": [
    "ls data"
   ]
  },
  {
   "cell_type": "code",
   "execution_count": 56,
   "metadata": {},
   "outputs": [
    {
     "name": "stdout",
     "output_type": "stream",
     "text": [
      "course, programming language, semester, year\n",
      "Probability, R, fall, 2018\n",
      "Statistics, R, winter, 2018-2019\n",
      "Data Analysis, R and Python, spring, 2019\n",
      "Machine Learning, Python, summer, 2019"
     ]
    }
   ],
   "source": [
    "cat data/course_list.csv"
   ]
  },
  {
   "cell_type": "code",
   "execution_count": 58,
   "metadata": {},
   "outputs": [
    {
     "name": "stdout",
     "output_type": "stream",
     "text": [
      "course, programming language, semester, year\n",
      "Probability, R, fall, 2018\n"
     ]
    }
   ],
   "source": [
    "!head -n 2 data/course_list.csv"
   ]
  },
  {
   "cell_type": "code",
   "execution_count": 66,
   "metadata": {},
   "outputs": [],
   "source": [
    "!head -n 2 data/course_list.csv > data/top.csv"
   ]
  },
  {
   "cell_type": "code",
   "execution_count": 67,
   "metadata": {},
   "outputs": [
    {
     "name": "stdout",
     "output_type": "stream",
     "text": [
      "course, programming language, semester, year\n",
      "Probability, R, fall, 2018\n"
     ]
    }
   ],
   "source": [
    "cat data/top.csv"
   ]
  },
  {
   "cell_type": "markdown",
   "metadata": {},
   "source": [
    "### Use a command's output as an input\n",
    "\n",
    "Suppose you want to get lines from the middle of a file. More specifically, suppose you want to get lines 3-5 from one of our data files. You can start by using head to get the first 5 lines and redirect that to a file, and then use tail to select the last 3:\n",
    "\n",
    "head -n 5 seasonal/winter.csv > top.csv\n",
    "tail -n 3 top.csv\n",
    "A quick check confirms that this is lines 3-5 of our original file, because it is the last 3 lines of the first 5.\n",
    "\n",
    "### What's a better way to combine commands? (Pipe Operator)\n",
    "\n",
    "Using redirection to combine commands has two drawbacks:\n",
    "\n",
    "It leaves a lot of intermediate files lying around (like top.csv).\n",
    "The commands to produce your final result are scattered across several lines of history.\n",
    "The shell provides another tool that solves both of these problems at once called a pipe. Once again, start by running head:\n",
    "\n",
    "`head -n 5 seasonal/summer.csv`\n",
    "Instead of sending head's output to a file, add a vertical bar and the tail command without a filename:\n",
    "\n",
    "`head -n 5 seasonal/summer.csv | tail -n 3`\n",
    "\n",
    "The pipe symbol tells the shell to use the output of the command on the left as the input to the command on the right."
   ]
  },
  {
   "cell_type": "code",
   "execution_count": 69,
   "metadata": {},
   "outputs": [
    {
     "name": "stdout",
     "output_type": "stream",
     "text": [
      "Probability, R, fall, 2018\n"
     ]
    }
   ],
   "source": [
    "!head -n 2 data/course_list.csv | tail -n 1"
   ]
  },
  {
   "cell_type": "code",
   "execution_count": 70,
   "metadata": {},
   "outputs": [
    {
     "name": "stdout",
     "output_type": "stream",
     "text": [
      "course, programming language, semester, year\n",
      "Probability, R, fall, 2018\n",
      "Statistics, R, winter, 2018-2019\n",
      "Data Analysis, R and Python, spring, 2019\n",
      "Machine Learning, Python, summer, 2019"
     ]
    }
   ],
   "source": [
    "cat data/course_list.csv"
   ]
  },
  {
   "cell_type": "code",
   "execution_count": 74,
   "metadata": {},
   "outputs": [
    {
     "name": "stdout",
     "output_type": "stream",
     "text": [
      " semester\n",
      " fall\n",
      " winter\n",
      " spring\n",
      " summer\n"
     ]
    }
   ],
   "source": [
    "!cut -d, -f 3 data/course_list.csv"
   ]
  },
  {
   "cell_type": "code",
   "execution_count": 77,
   "metadata": {},
   "outputs": [
    {
     "name": "stdout",
     "output_type": "stream",
     "text": [
      " fall\n",
      " winter\n",
      " spring\n",
      " summer\n"
     ]
    }
   ],
   "source": [
    "!cut -d, -f 3 data/course_list.csv | grep -v semester"
   ]
  },
  {
   "cell_type": "markdown",
   "metadata": {},
   "source": [
    "### Combining Many Commands\n",
    "\n",
    "You can chain any number of commands together. For example, this command:\n",
    "\n",
    "`cut -d , -f 1 seasonal/spring.csv | grep -v Date | head -n 10`\n",
    "will:\n",
    "\n",
    "select the first column from the spring data;\n",
    "remove the header line containing the word \"Date\"; and\n",
    "select the first 10 lines of actual data."
   ]
  },
  {
   "cell_type": "code",
   "execution_count": 78,
   "metadata": {},
   "outputs": [
    {
     "name": "stdout",
     "output_type": "stream",
     "text": [
      " fall\n"
     ]
    }
   ],
   "source": [
    "!cut -d, -f 3 data/course_list.csv | grep -v semester | head -n 1"
   ]
  },
  {
   "cell_type": "markdown",
   "metadata": {},
   "source": [
    "### Count the records in a file\n",
    "\n",
    "The command `wc` (short for \"word count\") prints the number of characters, words, and lines in a file. You can make it print only one of these using `-c`, `-w`, or `-l` respectively.\n",
    "\n",
    "\n",
    "Count how many records in seasonal/spring.csv have dates in July 2017. To do this, use grep with a partial date to select the lines and pipe this result into wc with an appropriate flag to count the lines."
   ]
  },
  {
   "cell_type": "code",
   "execution_count": 79,
   "metadata": {},
   "outputs": [
    {
     "name": "stdout",
     "output_type": "stream",
     "text": [
      "       2\n"
     ]
    }
   ],
   "source": [
    "!grep Python data/course_list.csv | wc -l"
   ]
  },
  {
   "cell_type": "markdown",
   "metadata": {},
   "source": [
    "### specifying many files at once (wildcards)\n",
    "\n",
    "Most shell commands will work on multiple files if you give them multiple filenames. For example, you can get the first column from all of the seasonal data files at once like this:\n",
    "\n",
    "cut -d , -f 1 seasonal/winter.csv seasonal/spring.csv seasonal/summer.csv seasonal/autumn.csv\n",
    "But typing the names of many files over and over is a bad idea: it wastes time, and sooner or later you will either leave a file out or repeat a file's name. To make your life better, the shell allows you to use **wildcards** to specify a list of files with a single expression. The most common wildcard is `*`, which means \"match zero or more characters\". Using it, we can shorten the `cut` command above to this:\n",
    "\n",
    "cut -d , -f 1 seasonal/*\n",
    "or:\n",
    "\n",
    "cut -d , -f 1 seasonal/*.csv"
   ]
  },
  {
   "cell_type": "code",
   "execution_count": 81,
   "metadata": {},
   "outputs": [
    {
     "name": "stdout",
     "output_type": "stream",
     "text": [
      "course\n",
      "Probability\n",
      "Statistics\n",
      "Data Analysis\n",
      "Machine Learning\n",
      "course\n",
      "Probability\n"
     ]
    }
   ],
   "source": [
    "!cut -d, -f 1 data/*"
   ]
  },
  {
   "cell_type": "markdown",
   "metadata": {},
   "source": [
    "### Other Wildcards\n",
    "\n",
    "The shell has other wildcards as well, though they are less commonly used:\n",
    "\n",
    "- `?` matches a single character, so `201?.txt` will match 2017.txt or 2018.txt, but not 2017-01.txt.\n",
    "- `[...]` matches any one of the characters inside the square brackets, so `201[78].txt` matches 2017.txt or 2018.txt, but not 2016.txt.\n",
    "- `{...}` matches any of the comma-separated patterns inside the curly brackets, so `{*.txt, *.csv}` matches any file whose name ends with .txt or .csv, but not files whose names end with .pdf.\n",
    "\n",
    "Which expression would match singh.pdf and johel.txt but not sandhu.pdf or sandhu.txt?\n",
    "\n",
    "`{singh.pdf, j*.txt}`"
   ]
  },
  {
   "cell_type": "markdown",
   "metadata": {},
   "source": [
    "### Sorting Lines of Text\n",
    "\n",
    "As its name suggests, `sort` puts data in order. By default it does this in ascending alphabetical order, but the flags `-n` and `-r` can be used to sort numerically and reverse the order of its output, while `-b` tells it to ignore leading blanks and `-f` tells it to fold case (i.e., be case-insensitive). Pipelines often use `grep` to get rid of unwanted records and then `sort` to put the remaining records in order."
   ]
  },
  {
   "cell_type": "code",
   "execution_count": 3,
   "metadata": {},
   "outputs": [
    {
     "name": "stdout",
     "output_type": "stream",
     "text": [
      " winter\n",
      " summer\n",
      " spring\n",
      " fall\n"
     ]
    }
   ],
   "source": [
    "!cut -d, -f 3 data/course_list.csv | grep -v semester | sort -r"
   ]
  },
  {
   "cell_type": "markdown",
   "metadata": {},
   "source": [
    "### Removing Duplicate Lines\n",
    "\n",
    "Another command that is often used with `sort` is `uniq`, whose job is to remove duplicated lines. More specifically, it removes adjacent duplicated lines. If a file contains:\n",
    "```\n",
    "2017-07-03\n",
    "2017-07-03\n",
    "2017-08-03\n",
    "2017-08-03\n",
    "```\n",
    "then `uniq` will produce:\n",
    "```\n",
    "2017-07-03\n",
    "2017-08-03\n",
    "```\n",
    "but if it contains:\n",
    "```\n",
    "2017-07-03\n",
    "2017-08-03\n",
    "2017-07-03\n",
    "2017-08-03\n",
    "```\n",
    "then `uniq` will print all four lines. The reason is that `uniq` is built to work with very large files. In order to remove non-adjacent lines from a file, it would have to keep the whole file in memory (or at least, all the unique lines seen so far). By only removing adjacent duplicates, it only has to keep the most recent unique line in memory."
   ]
  },
  {
   "cell_type": "markdown",
   "metadata": {},
   "source": [
    "Write a pipeline to:\n",
    "\n",
    "get the second column from seasonal/winter.csv,\n",
    "remove the word \"Tooth\" from the output so that only tooth names are displayed,\n",
    "sort the output so that all occurrences of a particular tooth name are adjacent; and\n",
    "display each tooth name once along with a count of how often it occurs.\n",
    "The start of your pipeline is the same as the previous exercise:\n",
    "\n",
    "cut -d , -f 2 seasonal/winter.csv | grep -v Tooth\n",
    "Extend it with a sort command, and use uniq -c to display unique lines with a count of how often each occurs rather than using uniq and wc."
   ]
  },
  {
   "cell_type": "code",
   "execution_count": 4,
   "metadata": {},
   "outputs": [
    {
     "name": "stdout",
     "output_type": "stream",
     "text": [
      "course, programming language, semester, year\n",
      "Probability, R, fall, 2018\n",
      "Statistics, R, winter, 2018-2019\n",
      "Data Analysis, R and Python, spring, 2019\n",
      "Machine Learning, Python, summer, 2019"
     ]
    }
   ],
   "source": [
    "!cat data/course_list.csv"
   ]
  },
  {
   "cell_type": "code",
   "execution_count": 9,
   "metadata": {},
   "outputs": [
    {
     "name": "stdout",
     "output_type": "stream",
     "text": [
      " 2019\n",
      " 2019\n",
      " 2018-2019\n",
      " 2018\n"
     ]
    }
   ],
   "source": [
    "!cut -d, -f 4 data/course_list.csv | grep -v year | sort -r"
   ]
  },
  {
   "cell_type": "code",
   "execution_count": 11,
   "metadata": {},
   "outputs": [
    {
     "name": "stdout",
     "output_type": "stream",
     "text": [
      "   2  2019\n",
      "   1  2018-2019\n",
      "   1  2018\n"
     ]
    }
   ],
   "source": [
    "!cut -d, -f 4 data/course_list.csv | grep -v year | sort -r | uniq -c"
   ]
  },
  {
   "cell_type": "markdown",
   "metadata": {},
   "source": [
    "### Saving the Output of a Pipe\n",
    "\n",
    "The shell lets us redirect the output of a sequence of piped commands:\n",
    "\n",
    "cut -d , -f 2 seasonal/*.csv | grep -v Tooth > teeth-only.txt\n",
    "However, > must appear at the end of the pipeline: if we try to use it in the middle, like this:\n",
    "\n",
    "cut -d , -f 2 seasonal/*.csv > teeth-only.txt | grep -v Tooth\n",
    "then all of the output from cut is written to teeth-only.txt, so there is nothing left for grep and it waits forever for some input."
   ]
  },
  {
   "cell_type": "markdown",
   "metadata": {},
   "source": [
    "What happens if we put redirection at the front of a pipeline as in:\n",
    "\n",
    "`> result.txt head -n 3 seasonal/winter.csv`\n",
    "\n",
    "The command's output is redirected to the file as usual."
   ]
  },
  {
   "cell_type": "markdown",
   "metadata": {},
   "source": [
    "### Stop a Running Program\n",
    "\n",
    "The commands and scripts that you have run so far have all executed quickly, but some tasks will take minutes, hours, or even days to complete. You may also mistakenly put redirection in the middle of a pipeline, causing it to hang up. If you decide that you don't want a program to keep running, you can type `Ctrl` + `C` to end it. This is often written `^C` in Unix documentation; note that the 'c' can be lower-case."
   ]
  },
  {
   "cell_type": "markdown",
   "metadata": {},
   "source": [
    "Run the command: `head`\n",
    "with no arguments (so that it waits for input that will never come) and then stop it by typing `Ctrl + C`."
   ]
  },
  {
   "cell_type": "markdown",
   "metadata": {},
   "source": [
    "### Wrapping up\n",
    "\n",
    "To wrap up, you will build a pipeline to find out how many records are in the shortest of the seasonal data files."
   ]
  },
  {
   "cell_type": "markdown",
   "metadata": {},
   "source": [
    "Use wc with appropriate parameters to list the number of lines in all of the seasonal data files. (Use a wildcard for the filenames instead of typing them all in by hand.)"
   ]
  },
  {
   "cell_type": "code",
   "execution_count": 14,
   "metadata": {},
   "outputs": [
    {
     "name": "stdout",
     "output_type": "stream",
     "text": [
      "       4 data/course_list.csv\n",
      "       2 data/top.csv\n",
      "       6 total\n"
     ]
    }
   ],
   "source": [
    "!wc -l data/*"
   ]
  },
  {
   "cell_type": "markdown",
   "metadata": {},
   "source": [
    "Add another command to the previous one using a pipe to remove the line containing the word \"total\"."
   ]
  },
  {
   "cell_type": "code",
   "execution_count": 16,
   "metadata": {},
   "outputs": [
    {
     "name": "stdout",
     "output_type": "stream",
     "text": [
      "       4 data/course_list.csv\n",
      "       6 total\n"
     ]
    }
   ],
   "source": [
    "!wc -l data/* | grep -v top"
   ]
  },
  {
   "cell_type": "markdown",
   "metadata": {},
   "source": [
    "Add two more stages to the pipeline that use sort -n and head -n 1 to find the file containing the fewest lines."
   ]
  },
  {
   "cell_type": "code",
   "execution_count": 17,
   "metadata": {},
   "outputs": [
    {
     "name": "stdout",
     "output_type": "stream",
     "text": [
      "       2 data/top.csv\n"
     ]
    }
   ],
   "source": [
    "!wc -l data/* | sort -n | head -n 1"
   ]
  }
 ],
 "metadata": {
  "kernelspec": {
   "display_name": "Python 3",
   "language": "python",
   "name": "python3"
  },
  "language_info": {
   "codemirror_mode": {
    "name": "ipython",
    "version": 3
   },
   "file_extension": ".py",
   "mimetype": "text/x-python",
   "name": "python",
   "nbconvert_exporter": "python",
   "pygments_lexer": "ipython3",
   "version": "3.7.3"
  }
 },
 "nbformat": 4,
 "nbformat_minor": 4
}
